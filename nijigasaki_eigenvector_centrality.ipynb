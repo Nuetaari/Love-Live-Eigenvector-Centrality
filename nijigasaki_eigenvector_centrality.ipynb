{
 "cells": [
  {
   "cell_type": "markdown",
   "id": "aa4e2fae-eff2-4257-8cda-ec3c9f03d7bb",
   "metadata": {},
   "source": [
    "# Application of Eigenvector Centrality in Ranking Fan-Favorite Characters from Love Live! Nijigasaki High School Idol Club"
   ]
  },
  {
   "cell_type": "markdown",
   "id": "13fc9d8c-ce75-426e-9fc6-d159341c259d",
   "metadata": {},
   "source": [
    "Study by Muhammad Ghifary Komara Putra (13523066)"
   ]
  },
  {
   "cell_type": "code",
   "execution_count": 1,
   "id": "2b2550c1-b16a-4eb7-a042-fc5436875863",
   "metadata": {},
   "outputs": [],
   "source": [
    "import pandas as pd\n",
    "import numpy as np"
   ]
  },
  {
   "cell_type": "code",
   "execution_count": 2,
   "id": "b60a62a4-eb0c-45fa-9877-d933bb87bc83",
   "metadata": {
    "tags": []
   },
   "outputs": [
    {
     "data": {
      "text/html": [
       "<div>\n",
       "<style scoped>\n",
       "    .dataframe tbody tr th:only-of-type {\n",
       "        vertical-align: middle;\n",
       "    }\n",
       "\n",
       "    .dataframe tbody tr th {\n",
       "        vertical-align: top;\n",
       "    }\n",
       "\n",
       "    .dataframe thead th {\n",
       "        text-align: right;\n",
       "    }\n",
       "</style>\n",
       "<table border=\"1\" class=\"dataframe\">\n",
       "  <thead>\n",
       "    <tr style=\"text-align: right;\">\n",
       "      <th></th>\n",
       "      <th>Ayumu Uehara</th>\n",
       "      <th>Kasumi Nakasu</th>\n",
       "      <th>Setsuna Yuki</th>\n",
       "      <th>Ai Miyashita</th>\n",
       "      <th>Emma Verde</th>\n",
       "      <th>Rina Tennoji</th>\n",
       "      <th>Kanata Konoe</th>\n",
       "      <th>Shizuku Osaka</th>\n",
       "      <th>Karin Asaka</th>\n",
       "    </tr>\n",
       "  </thead>\n",
       "  <tbody>\n",
       "    <tr>\n",
       "      <th>0</th>\n",
       "      <td>4</td>\n",
       "      <td>3</td>\n",
       "      <td>2</td>\n",
       "      <td>9</td>\n",
       "      <td>7</td>\n",
       "      <td>1</td>\n",
       "      <td>8</td>\n",
       "      <td>6</td>\n",
       "      <td>5</td>\n",
       "    </tr>\n",
       "    <tr>\n",
       "      <th>1</th>\n",
       "      <td>6</td>\n",
       "      <td>7</td>\n",
       "      <td>1</td>\n",
       "      <td>9</td>\n",
       "      <td>5</td>\n",
       "      <td>2</td>\n",
       "      <td>4</td>\n",
       "      <td>3</td>\n",
       "      <td>8</td>\n",
       "    </tr>\n",
       "    <tr>\n",
       "      <th>2</th>\n",
       "      <td>6</td>\n",
       "      <td>4</td>\n",
       "      <td>1</td>\n",
       "      <td>7</td>\n",
       "      <td>8</td>\n",
       "      <td>2</td>\n",
       "      <td>9</td>\n",
       "      <td>3</td>\n",
       "      <td>5</td>\n",
       "    </tr>\n",
       "    <tr>\n",
       "      <th>3</th>\n",
       "      <td>9</td>\n",
       "      <td>4</td>\n",
       "      <td>2</td>\n",
       "      <td>7</td>\n",
       "      <td>8</td>\n",
       "      <td>3</td>\n",
       "      <td>6</td>\n",
       "      <td>5</td>\n",
       "      <td>1</td>\n",
       "    </tr>\n",
       "    <tr>\n",
       "      <th>4</th>\n",
       "      <td>8</td>\n",
       "      <td>4</td>\n",
       "      <td>1</td>\n",
       "      <td>5</td>\n",
       "      <td>9</td>\n",
       "      <td>7</td>\n",
       "      <td>3</td>\n",
       "      <td>6</td>\n",
       "      <td>2</td>\n",
       "    </tr>\n",
       "  </tbody>\n",
       "</table>\n",
       "</div>"
      ],
      "text/plain": [
       "   Ayumu Uehara  Kasumi Nakasu  Setsuna Yuki  Ai Miyashita  Emma Verde  \\\n",
       "0             4              3             2             9           7   \n",
       "1             6              7             1             9           5   \n",
       "2             6              4             1             7           8   \n",
       "3             9              4             2             7           8   \n",
       "4             8              4             1             5           9   \n",
       "\n",
       "   Rina Tennoji  Kanata Konoe  Shizuku Osaka  Karin Asaka  \n",
       "0             1             8              6            5  \n",
       "1             2             4              3            8  \n",
       "2             2             9              3            5  \n",
       "3             3             6              5            1  \n",
       "4             7             3              6            2  "
      ]
     },
     "execution_count": 2,
     "metadata": {},
     "output_type": "execute_result"
    }
   ],
   "source": [
    "df = pd.read_excel(\"nijigaku_popularity_poll.xlsx\")\n",
    "df = df.drop(columns=[\"No.\"])\n",
    "df.head()"
   ]
  },
  {
   "cell_type": "code",
   "execution_count": 3,
   "id": "98a22bf3-88b2-4e19-80c1-718799345ce5",
   "metadata": {
    "tags": []
   },
   "outputs": [
    {
     "name": "stdout",
     "output_type": "stream",
     "text": [
      "<class 'pandas.core.frame.DataFrame'>\n",
      "RangeIndex: 30 entries, 0 to 29\n",
      "Data columns (total 9 columns):\n",
      " #   Column         Non-Null Count  Dtype\n",
      "---  ------         --------------  -----\n",
      " 0   Ayumu Uehara   30 non-null     int64\n",
      " 1   Kasumi Nakasu  30 non-null     int64\n",
      " 2   Setsuna Yuki   30 non-null     int64\n",
      " 3   Ai Miyashita   30 non-null     int64\n",
      " 4   Emma Verde     30 non-null     int64\n",
      " 5   Rina Tennoji   30 non-null     int64\n",
      " 6   Kanata Konoe   30 non-null     int64\n",
      " 7   Shizuku Osaka  30 non-null     int64\n",
      " 8   Karin Asaka    30 non-null     int64\n",
      "dtypes: int64(9)\n",
      "memory usage: 2.2 KB\n"
     ]
    }
   ],
   "source": [
    "df.info()"
   ]
  },
  {
   "cell_type": "code",
   "execution_count": 4,
   "id": "7a54488b-b488-40f0-b026-ebdf93a91b22",
   "metadata": {
    "tags": []
   },
   "outputs": [
    {
     "data": {
      "text/plain": [
       "Index(['Ayumu Uehara', 'Kasumi Nakasu', 'Setsuna Yuki', 'Ai Miyashita',\n",
       "       'Emma Verde', 'Rina Tennoji', 'Kanata Konoe', 'Shizuku Osaka',\n",
       "       'Karin Asaka'],\n",
       "      dtype='object')"
      ]
     },
     "execution_count": 4,
     "metadata": {},
     "output_type": "execute_result"
    }
   ],
   "source": [
    "characters = df.columns\n",
    "characters"
   ]
  },
  {
   "cell_type": "markdown",
   "id": "e1c1c7b6-8ede-44fb-a559-6e39c21a6c1e",
   "metadata": {},
   "source": [
    "### 1. Converting Rank to Score"
   ]
  },
  {
   "cell_type": "code",
   "execution_count": 5,
   "id": "7562459b-5b17-4b0a-8fb1-8d2848529d6d",
   "metadata": {
    "tags": []
   },
   "outputs": [
    {
     "data": {
      "text/html": [
       "<div>\n",
       "<style scoped>\n",
       "    .dataframe tbody tr th:only-of-type {\n",
       "        vertical-align: middle;\n",
       "    }\n",
       "\n",
       "    .dataframe tbody tr th {\n",
       "        vertical-align: top;\n",
       "    }\n",
       "\n",
       "    .dataframe thead th {\n",
       "        text-align: right;\n",
       "    }\n",
       "</style>\n",
       "<table border=\"1\" class=\"dataframe\">\n",
       "  <thead>\n",
       "    <tr style=\"text-align: right;\">\n",
       "      <th></th>\n",
       "      <th>Ayumu Uehara</th>\n",
       "      <th>Kasumi Nakasu</th>\n",
       "      <th>Setsuna Yuki</th>\n",
       "      <th>Ai Miyashita</th>\n",
       "      <th>Emma Verde</th>\n",
       "      <th>Rina Tennoji</th>\n",
       "      <th>Kanata Konoe</th>\n",
       "      <th>Shizuku Osaka</th>\n",
       "      <th>Karin Asaka</th>\n",
       "    </tr>\n",
       "  </thead>\n",
       "  <tbody>\n",
       "    <tr>\n",
       "      <th>0</th>\n",
       "      <td>6</td>\n",
       "      <td>7</td>\n",
       "      <td>8</td>\n",
       "      <td>1</td>\n",
       "      <td>3</td>\n",
       "      <td>9</td>\n",
       "      <td>2</td>\n",
       "      <td>4</td>\n",
       "      <td>5</td>\n",
       "    </tr>\n",
       "    <tr>\n",
       "      <th>1</th>\n",
       "      <td>4</td>\n",
       "      <td>3</td>\n",
       "      <td>9</td>\n",
       "      <td>1</td>\n",
       "      <td>5</td>\n",
       "      <td>8</td>\n",
       "      <td>6</td>\n",
       "      <td>7</td>\n",
       "      <td>2</td>\n",
       "    </tr>\n",
       "    <tr>\n",
       "      <th>2</th>\n",
       "      <td>4</td>\n",
       "      <td>6</td>\n",
       "      <td>9</td>\n",
       "      <td>3</td>\n",
       "      <td>2</td>\n",
       "      <td>8</td>\n",
       "      <td>1</td>\n",
       "      <td>7</td>\n",
       "      <td>5</td>\n",
       "    </tr>\n",
       "    <tr>\n",
       "      <th>3</th>\n",
       "      <td>1</td>\n",
       "      <td>6</td>\n",
       "      <td>8</td>\n",
       "      <td>3</td>\n",
       "      <td>2</td>\n",
       "      <td>7</td>\n",
       "      <td>4</td>\n",
       "      <td>5</td>\n",
       "      <td>9</td>\n",
       "    </tr>\n",
       "    <tr>\n",
       "      <th>4</th>\n",
       "      <td>2</td>\n",
       "      <td>6</td>\n",
       "      <td>9</td>\n",
       "      <td>5</td>\n",
       "      <td>1</td>\n",
       "      <td>3</td>\n",
       "      <td>7</td>\n",
       "      <td>4</td>\n",
       "      <td>8</td>\n",
       "    </tr>\n",
       "  </tbody>\n",
       "</table>\n",
       "</div>"
      ],
      "text/plain": [
       "   Ayumu Uehara  Kasumi Nakasu  Setsuna Yuki  Ai Miyashita  Emma Verde  \\\n",
       "0             6              7             8             1           3   \n",
       "1             4              3             9             1           5   \n",
       "2             4              6             9             3           2   \n",
       "3             1              6             8             3           2   \n",
       "4             2              6             9             5           1   \n",
       "\n",
       "   Rina Tennoji  Kanata Konoe  Shizuku Osaka  Karin Asaka  \n",
       "0             9             2              4            5  \n",
       "1             8             6              7            2  \n",
       "2             8             1              7            5  \n",
       "3             7             4              5            9  \n",
       "4             3             7              4            8  "
      ]
     },
     "execution_count": 5,
     "metadata": {},
     "output_type": "execute_result"
    }
   ],
   "source": [
    "score_df = 9 - (df - 1)\n",
    "score_df.head()"
   ]
  },
  {
   "cell_type": "markdown",
   "id": "e50ad14e-94a4-4127-a45d-f25307ef0178",
   "metadata": {},
   "source": [
    "### 2. Converting Score to Adjacency Matrix"
   ]
  },
  {
   "cell_type": "code",
   "execution_count": 6,
   "id": "c0511d18-9276-4d18-b933-6ff5c1f8d138",
   "metadata": {
    "tags": []
   },
   "outputs": [
    {
     "name": "stdout",
     "output_type": "stream",
     "text": [
      "[144 161 236 121  90 116 150 125 207]\n"
     ]
    }
   ],
   "source": [
    "# borda count\n",
    "score_arr = score_df.sum(axis=0).to_numpy()\n",
    "print(score_arr)"
   ]
  },
  {
   "cell_type": "code",
   "execution_count": 7,
   "id": "766d0fc9-b622-471c-bffb-532439658129",
   "metadata": {
    "tags": []
   },
   "outputs": [
    {
     "name": "stdout",
     "output_type": "stream",
     "text": [
      "[[ 0. 12.  4. 16. 23. 19. 12. 21.  7.]\n",
      " [18.  0.  3. 21. 24. 20. 17. 21.  7.]\n",
      " [26. 27.  0. 29. 28. 25. 25. 26. 20.]\n",
      " [14.  9.  1.  0. 21. 18. 11. 14.  3.]\n",
      " [ 7.  6.  2.  9.  0. 14.  9. 10.  3.]\n",
      " [11. 10.  5. 12. 16.  0. 12. 12.  8.]\n",
      " [18. 13.  5. 19. 21. 18.  0. 17.  9.]\n",
      " [ 9.  9.  4. 16. 20. 18. 13.  0.  6.]\n",
      " [23. 23. 10. 27. 27. 22. 21. 24.  0.]]\n"
     ]
    }
   ],
   "source": [
    "# Variation 1\n",
    "\n",
    "A1 = np.zeros((9,9))\n",
    "score_matrix = score_df.to_numpy()\n",
    "\n",
    "for i in range(30):\n",
    "    for j in range(9):\n",
    "        for k in range(9):\n",
    "            if score_matrix[i][j] > score_matrix[i][k]:\n",
    "                A1[j][k] += 1\n",
    "        \n",
    "print(A1)"
   ]
  },
  {
   "cell_type": "code",
   "execution_count": 8,
   "id": "6c25d18d-0781-4be7-90a1-770ce96cf7ae",
   "metadata": {
    "tags": []
   },
   "outputs": [
    {
     "name": "stdout",
     "output_type": "stream",
     "text": [
      "[[  0.   0.   0.  23.  54.  28.   0.  19.   0.]\n",
      " [ 17.   0.   0.  40.  71.  45.  11.  36.   0.]\n",
      " [ 92.  75.   0. 115. 146. 120.  86. 111.  29.]\n",
      " [  0.   0.   0.   0.  31.   5.   0.   0.   0.]\n",
      " [  0.   0.   0.   0.   0.   0.   0.   0.   0.]\n",
      " [  0.   0.   0.   0.  26.   0.   0.   0.   0.]\n",
      " [  6.   0.   0.  29.  60.  34.   0.  25.   0.]\n",
      " [  0.   0.   0.   4.  35.   9.   0.   0.   0.]\n",
      " [ 63.  46.   0.  86. 117.  91.  57.  82.   0.]]\n"
     ]
    }
   ],
   "source": [
    "# Variation 2\n",
    "\n",
    "A2 = np.zeros((9,9))\n",
    "\n",
    "for i in range(9):\n",
    "    for j in range(9):\n",
    "        difference = score_arr[i] - score_arr[j]\n",
    "        if difference > 0:\n",
    "            A2[i][j] = difference\n",
    "            \n",
    "print(A2)"
   ]
  },
  {
   "cell_type": "markdown",
   "id": "1dddca90-41e4-4e18-bd9b-5c7fcb12afa8",
   "metadata": {},
   "source": [
    "### 3. Computing Eigenvalues and Eigenvectors"
   ]
  },
  {
   "cell_type": "code",
   "execution_count": 9,
   "id": "7a2cc4b7-dfbf-4df3-a8e5-71f7eaab357c",
   "metadata": {
    "tags": []
   },
   "outputs": [
    {
     "name": "stdout",
     "output_type": "stream",
     "text": [
      "[104.24140207+0.j          -8.06011376+6.49130734j\n",
      "  -8.06011376-6.49130734j -14.57493881+4.51750859j\n",
      " -14.57493881-4.51750859j -14.89532883+1.91450793j\n",
      " -14.89532883-1.91450793j -14.59031963+0.25919106j\n",
      " -14.59031963-0.25919106j]\n"
     ]
    }
   ],
   "source": [
    "# Variation 1\n",
    "\n",
    "eigenvalues1, eigenvectors1 = np.linalg.eig(A1)\n",
    "print(eigenvalues1)"
   ]
  },
  {
   "cell_type": "code",
   "execution_count": 10,
   "id": "cad93738-4723-4ab5-bb1c-f5704d77615e",
   "metadata": {
    "tags": []
   },
   "outputs": [
    {
     "name": "stdout",
     "output_type": "stream",
     "text": [
      "[0.29056116 0.3275653  0.54762684 0.2267826  0.16476132 0.23975175\n",
      " 0.31344951 0.24783443 0.46113988]\n"
     ]
    }
   ],
   "source": [
    "norm = np.linalg.norm(eigenvectors1[:,0])\n",
    "result1 = eigenvectors1[:,0] / norm\n",
    "result1 = np.abs(result1.real)\n",
    "print(result1)"
   ]
  },
  {
   "cell_type": "code",
   "execution_count": 11,
   "id": "d7f26157-64bb-4979-b495-77eb6105a6e6",
   "metadata": {
    "tags": []
   },
   "outputs": [
    {
     "name": "stdout",
     "output_type": "stream",
     "text": [
      "[ 4.5025866 +0.j          2.13526349+3.39751503j  2.13526349-3.39751503j\n",
      " -0.91207661+2.92168156j -0.91207661-2.92168156j -1.87305654+1.23246452j\n",
      " -1.87305654-1.23246452j -1.47134414+0.j         -1.73141315+0.j        ]\n"
     ]
    }
   ],
   "source": [
    "# Variation 2\n",
    "\n",
    "epsilon = 0.00001\n",
    "A2 += epsilon\n",
    "\n",
    "eigenvalues2, eigenvectors2 = np.linalg.eig(A2)\n",
    "print(eigenvalues2)"
   ]
  },
  {
   "cell_type": "code",
   "execution_count": 12,
   "id": "4502153a-e7d4-489b-8dcd-3b325e9c01c7",
   "metadata": {
    "tags": []
   },
   "outputs": [
    {
     "name": "stdout",
     "output_type": "stream",
     "text": [
      "[7.15337495e-04 8.53430139e-03 9.92292247e-01 3.85714287e-05\n",
      " 2.50337296e-06 1.69589965e-05 1.86600767e-03 9.01273928e-05\n",
      " 1.23609302e-01]\n"
     ]
    }
   ],
   "source": [
    "norm = np.linalg.norm(eigenvectors2[:,0])\n",
    "result2 = eigenvectors2[:,0] / norm\n",
    "result2 = np.abs(result2.real)\n",
    "print(result2)"
   ]
  },
  {
   "cell_type": "markdown",
   "id": "f4faa903-3a93-43ac-a5fd-074d47b47406",
   "metadata": {},
   "source": [
    "## Results"
   ]
  },
  {
   "cell_type": "code",
   "execution_count": 13,
   "id": "1ba1f548-4b5c-4408-8d8f-f1217d4c5ceb",
   "metadata": {
    "tags": []
   },
   "outputs": [
    {
     "data": {
      "text/html": [
       "<div>\n",
       "<style scoped>\n",
       "    .dataframe tbody tr th:only-of-type {\n",
       "        vertical-align: middle;\n",
       "    }\n",
       "\n",
       "    .dataframe tbody tr th {\n",
       "        vertical-align: top;\n",
       "    }\n",
       "\n",
       "    .dataframe thead th {\n",
       "        text-align: right;\n",
       "    }\n",
       "</style>\n",
       "<table border=\"1\" class=\"dataframe\">\n",
       "  <thead>\n",
       "    <tr style=\"text-align: right;\">\n",
       "      <th></th>\n",
       "      <th>Setsuna Yuki</th>\n",
       "      <th>Karin Asaka</th>\n",
       "      <th>Kasumi Nakasu</th>\n",
       "      <th>Kanata Konoe</th>\n",
       "      <th>Ayumu Uehara</th>\n",
       "      <th>Shizuku Osaka</th>\n",
       "      <th>Ai Miyashita</th>\n",
       "      <th>Rina Tennoji</th>\n",
       "      <th>Emma Verde</th>\n",
       "    </tr>\n",
       "  </thead>\n",
       "  <tbody>\n",
       "    <tr>\n",
       "      <th>0</th>\n",
       "      <td>0.504</td>\n",
       "      <td>0.442</td>\n",
       "      <td>0.344</td>\n",
       "      <td>0.32</td>\n",
       "      <td>0.307</td>\n",
       "      <td>0.267</td>\n",
       "      <td>0.258</td>\n",
       "      <td>0.248</td>\n",
       "      <td>0.192</td>\n",
       "    </tr>\n",
       "  </tbody>\n",
       "</table>\n",
       "</div>"
      ],
      "text/plain": [
       "   Setsuna Yuki  Karin Asaka  Kasumi Nakasu  Kanata Konoe  Ayumu Uehara  \\\n",
       "0         0.504        0.442          0.344          0.32         0.307   \n",
       "\n",
       "   Shizuku Osaka  Ai Miyashita  Rina Tennoji  Emma Verde  \n",
       "0          0.267         0.258         0.248       0.192  "
      ]
     },
     "execution_count": 13,
     "metadata": {},
     "output_type": "execute_result"
    }
   ],
   "source": [
    "# Borda Count\n",
    "\n",
    "normalized_score_arr = score_arr/np.linalg.norm(score_arr)\n",
    "result_borda_count_df = pd.DataFrame([np.round(normalized_score_arr,3)], columns=characters)\n",
    "sorted_result_borda_count_df = result_borda_count_df.loc[:,result_borda_count_df.iloc[0].sort_values(ascending=False).index]\n",
    "sorted_result_borda_count_df"
   ]
  },
  {
   "cell_type": "code",
   "execution_count": 14,
   "id": "9297e862-39b4-4622-9f08-9ef996ae935f",
   "metadata": {
    "tags": []
   },
   "outputs": [
    {
     "data": {
      "text/html": [
       "<div>\n",
       "<style scoped>\n",
       "    .dataframe tbody tr th:only-of-type {\n",
       "        vertical-align: middle;\n",
       "    }\n",
       "\n",
       "    .dataframe tbody tr th {\n",
       "        vertical-align: top;\n",
       "    }\n",
       "\n",
       "    .dataframe thead th {\n",
       "        text-align: right;\n",
       "    }\n",
       "</style>\n",
       "<table border=\"1\" class=\"dataframe\">\n",
       "  <thead>\n",
       "    <tr style=\"text-align: right;\">\n",
       "      <th></th>\n",
       "      <th>Setsuna Yuki</th>\n",
       "      <th>Karin Asaka</th>\n",
       "      <th>Kasumi Nakasu</th>\n",
       "      <th>Kanata Konoe</th>\n",
       "      <th>Ayumu Uehara</th>\n",
       "      <th>Shizuku Osaka</th>\n",
       "      <th>Rina Tennoji</th>\n",
       "      <th>Ai Miyashita</th>\n",
       "      <th>Emma Verde</th>\n",
       "    </tr>\n",
       "  </thead>\n",
       "  <tbody>\n",
       "    <tr>\n",
       "      <th>0</th>\n",
       "      <td>0.548</td>\n",
       "      <td>0.461</td>\n",
       "      <td>0.328</td>\n",
       "      <td>0.313</td>\n",
       "      <td>0.291</td>\n",
       "      <td>0.248</td>\n",
       "      <td>0.24</td>\n",
       "      <td>0.227</td>\n",
       "      <td>0.165</td>\n",
       "    </tr>\n",
       "  </tbody>\n",
       "</table>\n",
       "</div>"
      ],
      "text/plain": [
       "   Setsuna Yuki  Karin Asaka  Kasumi Nakasu  Kanata Konoe  Ayumu Uehara  \\\n",
       "0         0.548        0.461          0.328         0.313         0.291   \n",
       "\n",
       "   Shizuku Osaka  Rina Tennoji  Ai Miyashita  Emma Verde  \n",
       "0          0.248          0.24         0.227       0.165  "
      ]
     },
     "execution_count": 14,
     "metadata": {},
     "output_type": "execute_result"
    }
   ],
   "source": [
    "# variation 1\n",
    "\n",
    "result1_df = pd.DataFrame([np.round(result1,3)], columns=characters)\n",
    "\n",
    "sorted_result1_df = result1_df.loc[:,result1_df.iloc[0].sort_values(ascending=False).index]\n",
    "sorted_result1_df"
   ]
  },
  {
   "cell_type": "code",
   "execution_count": 15,
   "id": "961e083f-380c-42cd-b8b3-89cb1dbb0221",
   "metadata": {
    "tags": []
   },
   "outputs": [
    {
     "data": {
      "text/html": [
       "<div>\n",
       "<style scoped>\n",
       "    .dataframe tbody tr th:only-of-type {\n",
       "        vertical-align: middle;\n",
       "    }\n",
       "\n",
       "    .dataframe tbody tr th {\n",
       "        vertical-align: top;\n",
       "    }\n",
       "\n",
       "    .dataframe thead th {\n",
       "        text-align: right;\n",
       "    }\n",
       "</style>\n",
       "<table border=\"1\" class=\"dataframe\">\n",
       "  <thead>\n",
       "    <tr style=\"text-align: right;\">\n",
       "      <th></th>\n",
       "      <th>Setsuna Yuki</th>\n",
       "      <th>Karin Asaka</th>\n",
       "      <th>Kasumi Nakasu</th>\n",
       "      <th>Kanata Konoe</th>\n",
       "      <th>Ayumu Uehara</th>\n",
       "      <th>Shizuku Osaka</th>\n",
       "      <th>Ai Miyashita</th>\n",
       "      <th>Rina Tennoji</th>\n",
       "      <th>Emma Verde</th>\n",
       "    </tr>\n",
       "  </thead>\n",
       "  <tbody>\n",
       "    <tr>\n",
       "      <th>0</th>\n",
       "      <td>0.992292</td>\n",
       "      <td>0.123609</td>\n",
       "      <td>0.008534</td>\n",
       "      <td>0.001866</td>\n",
       "      <td>0.000715</td>\n",
       "      <td>0.00009</td>\n",
       "      <td>0.000039</td>\n",
       "      <td>0.000017</td>\n",
       "      <td>0.000003</td>\n",
       "    </tr>\n",
       "  </tbody>\n",
       "</table>\n",
       "</div>"
      ],
      "text/plain": [
       "   Setsuna Yuki  Karin Asaka  Kasumi Nakasu  Kanata Konoe  Ayumu Uehara  \\\n",
       "0      0.992292     0.123609       0.008534      0.001866      0.000715   \n",
       "\n",
       "   Shizuku Osaka  Ai Miyashita  Rina Tennoji  Emma Verde  \n",
       "0        0.00009      0.000039      0.000017    0.000003  "
      ]
     },
     "execution_count": 15,
     "metadata": {},
     "output_type": "execute_result"
    }
   ],
   "source": [
    "# variation 2\n",
    "\n",
    "result2_df = pd.DataFrame([np.round(result2,6)], columns=characters)\n",
    "\n",
    "sorted_result2_df = result2_df.loc[:,result2_df.iloc[0].sort_values(ascending=False).index]\n",
    "sorted_result2_df"
   ]
  },
  {
   "cell_type": "markdown",
   "id": "165a29a1-4476-4c0b-a4af-6b40a66d74ce",
   "metadata": {},
   "source": [
    "### Further Statistics"
   ]
  },
  {
   "cell_type": "code",
   "execution_count": 16,
   "id": "8fb57e12-99f1-478b-bd20-9dcb7e81fb67",
   "metadata": {
    "tags": []
   },
   "outputs": [
    {
     "data": {
      "text/plain": [
       "0.3116103341453932"
      ]
     },
     "execution_count": 16,
     "metadata": {},
     "output_type": "execute_result"
    }
   ],
   "source": [
    "normalized_score_arr.max() - normalized_score_arr.min()"
   ]
  },
  {
   "cell_type": "code",
   "execution_count": 17,
   "id": "9fabf62c-54b8-4649-9813-d0fb0743d11f",
   "metadata": {
    "tags": []
   },
   "outputs": [
    {
     "data": {
      "text/plain": [
       "0.38286552197400225"
      ]
     },
     "execution_count": 17,
     "metadata": {},
     "output_type": "execute_result"
    }
   ],
   "source": [
    "result1.max() - result1.min()"
   ]
  },
  {
   "cell_type": "code",
   "execution_count": 18,
   "id": "56e50aa3-3e57-42ab-9b63-9ddd04c05ef2",
   "metadata": {
    "tags": []
   },
   "outputs": [
    {
     "data": {
      "text/plain": [
       "0.9922897431627059"
      ]
     },
     "execution_count": 18,
     "metadata": {},
     "output_type": "execute_result"
    }
   ],
   "source": [
    "result2.max() - result2.min()"
   ]
  },
  {
   "cell_type": "code",
   "execution_count": 19,
   "id": "c15b7170-411d-4adb-86bb-e4c3a2aeca7c",
   "metadata": {
    "tags": []
   },
   "outputs": [],
   "source": [
    "from scipy.stats import skew"
   ]
  },
  {
   "cell_type": "code",
   "execution_count": 20,
   "id": "c01d387f-94bd-475c-a029-3f9ef4a64b07",
   "metadata": {
    "tags": []
   },
   "outputs": [
    {
     "data": {
      "text/plain": [
       "0.711831758807111"
      ]
     },
     "execution_count": 20,
     "metadata": {},
     "output_type": "execute_result"
    }
   ],
   "source": [
    "skew(normalized_score_arr)"
   ]
  },
  {
   "cell_type": "code",
   "execution_count": 21,
   "id": "5af9db33-b2d7-4ab0-80f6-b14e761841b3",
   "metadata": {
    "tags": []
   },
   "outputs": [
    {
     "data": {
      "text/plain": [
       "0.864647852863504"
      ]
     },
     "execution_count": 21,
     "metadata": {},
     "output_type": "execute_result"
    }
   ],
   "source": [
    "skew(result1)"
   ]
  },
  {
   "cell_type": "code",
   "execution_count": 22,
   "id": "233c5b82-0b15-48da-9fba-a13febca5708",
   "metadata": {
    "tags": []
   },
   "outputs": [
    {
     "data": {
      "text/plain": [
       "2.4069911932831864"
      ]
     },
     "execution_count": 22,
     "metadata": {},
     "output_type": "execute_result"
    }
   ],
   "source": [
    "skew(result2)"
   ]
  }
 ],
 "metadata": {
  "kernelspec": {
   "display_name": "Python 3 (ipykernel)",
   "language": "python",
   "name": "python3"
  },
  "language_info": {
   "codemirror_mode": {
    "name": "ipython",
    "version": 3
   },
   "file_extension": ".py",
   "mimetype": "text/x-python",
   "name": "python",
   "nbconvert_exporter": "python",
   "pygments_lexer": "ipython3",
   "version": "3.11.5"
  }
 },
 "nbformat": 4,
 "nbformat_minor": 5
}
